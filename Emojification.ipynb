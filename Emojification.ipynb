{
  "cells": [
    {
      "cell_type": "markdown",
      "metadata": {
        "id": "view-in-github",
        "colab_type": "text"
      },
      "source": [
        "<a href=\"https://colab.research.google.com/github/kimo26/Emojification/blob/main/Emojification.ipynb\" target=\"_parent\"><img src=\"https://colab.research.google.com/assets/colab-badge.svg\" alt=\"Open In Colab\"/></a>"
      ]
    },
    {
      "cell_type": "markdown",
      "metadata": {
        "id": "jhA-iSuha0Aq"
      },
      "source": [
        "#ACE Workshop\n",
        "\n",
        "The ACE workshop is built around the idea that the best way to learn something new is by getting a hands-on experience. Leanring something new is a journey form where you are now to where you want to be and this workshop is just a vechicle to get you there. We hope that you find it to be a productive and enjoyable learning experience. In this workshop we will walk you through how to build a deep learning model to add fun emojis to sentences.\n"
      ]
    },
    {
      "cell_type": "markdown",
      "metadata": {
        "id": "G-nayAwA3ppN"
      },
      "source": [
        "# Fetching Data\n",
        "\n",
        "We need to train our model on sentences with emojis so that our model learns when to use what emoji. For this task we will be using Kaggle to collect the data. There are multiple options the best ones in my opinion are the datasets which are collections of english language tweets. So either you can filter all tweets to keep only the ones containing at least 1 emoji or we can just use an already filtered dataset [EmojifyData-EN: English tweets, with emojis](https://www.kaggle.com/datasets/rexhaif/emojifydata-en).\n",
        "\n",
        "\n",
        "\n",
        "---\n",
        "\n",
        "\n",
        "\n",
        "# Linking your Kaggle account to your Colab or Vertex Workbench\n",
        "\n",
        "After having created an account which you can do by clicking [here](https://www.kaggle.com/account/login?phase=startRegisterTab&returnUrl=%2F) or you can sign in by clicking [here](https://www.kaggle.com/account/login?phase=startSignInTab&returnUrl=%2F), you must download Kaggle's beta API which you can do by going to your account settings and clicking on \"Create a New API Token\". This will download a file called \"kaggle.json\" to your computer.\n",
        "\n",
        "We must now make sure that we mount our Google Drive files by running the following code:"
      ]
    },
    {
      "cell_type": "code",
      "execution_count": null,
      "metadata": {
        "colab": {
          "base_uri": "https://localhost:8080/"
        },
        "id": "bsvZsdGfCQZp",
        "outputId": "dc301a89-b5be-4f84-d3cc-a300ff9073e2"
      },
      "outputs": [
        {
          "name": "stdout",
          "output_type": "stream",
          "text": [
            "Mounted at /content/gdrive\n"
          ]
        }
      ],
      "source": [
        "# ONLY NEEDED FOR COLAB / SKIP FOR GCP & VERTEX AI\n",
        "from google.colab import drive\n",
        "drive.mount('/content/gdrive')"
      ]
    },
    {
      "cell_type": "markdown",
      "metadata": {
        "id": "eHa8TygZCbtv"
      },
      "source": [
        "Now we can upload the \"kaggle.json\" file from our computer to our notebook."
      ]
    },
    {
      "cell_type": "code",
      "execution_count": null,
      "metadata": {
        "colab": {
          "base_uri": "https://localhost:8080/",
          "height": 92
        },
        "id": "cwSvgrtdCjwQ",
        "outputId": "8780db94-ff61-4508-9c38-d4e15be20665"
      },
      "outputs": [
        {
          "data": {
            "text/html": [
              "\n",
              "     <input type=\"file\" id=\"files-cda94741-5984-46f2-a701-3d5799696dcc\" name=\"files[]\" multiple disabled\n",
              "        style=\"border:none\" />\n",
              "     <output id=\"result-cda94741-5984-46f2-a701-3d5799696dcc\">\n",
              "      Upload widget is only available when the cell has been executed in the\n",
              "      current browser session. Please rerun this cell to enable.\n",
              "      </output>\n",
              "      <script>// Copyright 2017 Google LLC\n",
              "//\n",
              "// Licensed under the Apache License, Version 2.0 (the \"License\");\n",
              "// you may not use this file except in compliance with the License.\n",
              "// You may obtain a copy of the License at\n",
              "//\n",
              "//      http://www.apache.org/licenses/LICENSE-2.0\n",
              "//\n",
              "// Unless required by applicable law or agreed to in writing, software\n",
              "// distributed under the License is distributed on an \"AS IS\" BASIS,\n",
              "// WITHOUT WARRANTIES OR CONDITIONS OF ANY KIND, either express or implied.\n",
              "// See the License for the specific language governing permissions and\n",
              "// limitations under the License.\n",
              "\n",
              "/**\n",
              " * @fileoverview Helpers for google.colab Python module.\n",
              " */\n",
              "(function(scope) {\n",
              "function span(text, styleAttributes = {}) {\n",
              "  const element = document.createElement('span');\n",
              "  element.textContent = text;\n",
              "  for (const key of Object.keys(styleAttributes)) {\n",
              "    element.style[key] = styleAttributes[key];\n",
              "  }\n",
              "  return element;\n",
              "}\n",
              "\n",
              "// Max number of bytes which will be uploaded at a time.\n",
              "const MAX_PAYLOAD_SIZE = 100 * 1024;\n",
              "\n",
              "function _uploadFiles(inputId, outputId) {\n",
              "  const steps = uploadFilesStep(inputId, outputId);\n",
              "  const outputElement = document.getElementById(outputId);\n",
              "  // Cache steps on the outputElement to make it available for the next call\n",
              "  // to uploadFilesContinue from Python.\n",
              "  outputElement.steps = steps;\n",
              "\n",
              "  return _uploadFilesContinue(outputId);\n",
              "}\n",
              "\n",
              "// This is roughly an async generator (not supported in the browser yet),\n",
              "// where there are multiple asynchronous steps and the Python side is going\n",
              "// to poll for completion of each step.\n",
              "// This uses a Promise to block the python side on completion of each step,\n",
              "// then passes the result of the previous step as the input to the next step.\n",
              "function _uploadFilesContinue(outputId) {\n",
              "  const outputElement = document.getElementById(outputId);\n",
              "  const steps = outputElement.steps;\n",
              "\n",
              "  const next = steps.next(outputElement.lastPromiseValue);\n",
              "  return Promise.resolve(next.value.promise).then((value) => {\n",
              "    // Cache the last promise value to make it available to the next\n",
              "    // step of the generator.\n",
              "    outputElement.lastPromiseValue = value;\n",
              "    return next.value.response;\n",
              "  });\n",
              "}\n",
              "\n",
              "/**\n",
              " * Generator function which is called between each async step of the upload\n",
              " * process.\n",
              " * @param {string} inputId Element ID of the input file picker element.\n",
              " * @param {string} outputId Element ID of the output display.\n",
              " * @return {!Iterable<!Object>} Iterable of next steps.\n",
              " */\n",
              "function* uploadFilesStep(inputId, outputId) {\n",
              "  const inputElement = document.getElementById(inputId);\n",
              "  inputElement.disabled = false;\n",
              "\n",
              "  const outputElement = document.getElementById(outputId);\n",
              "  outputElement.innerHTML = '';\n",
              "\n",
              "  const pickedPromise = new Promise((resolve) => {\n",
              "    inputElement.addEventListener('change', (e) => {\n",
              "      resolve(e.target.files);\n",
              "    });\n",
              "  });\n",
              "\n",
              "  const cancel = document.createElement('button');\n",
              "  inputElement.parentElement.appendChild(cancel);\n",
              "  cancel.textContent = 'Cancel upload';\n",
              "  const cancelPromise = new Promise((resolve) => {\n",
              "    cancel.onclick = () => {\n",
              "      resolve(null);\n",
              "    };\n",
              "  });\n",
              "\n",
              "  // Wait for the user to pick the files.\n",
              "  const files = yield {\n",
              "    promise: Promise.race([pickedPromise, cancelPromise]),\n",
              "    response: {\n",
              "      action: 'starting',\n",
              "    }\n",
              "  };\n",
              "\n",
              "  cancel.remove();\n",
              "\n",
              "  // Disable the input element since further picks are not allowed.\n",
              "  inputElement.disabled = true;\n",
              "\n",
              "  if (!files) {\n",
              "    return {\n",
              "      response: {\n",
              "        action: 'complete',\n",
              "      }\n",
              "    };\n",
              "  }\n",
              "\n",
              "  for (const file of files) {\n",
              "    const li = document.createElement('li');\n",
              "    li.append(span(file.name, {fontWeight: 'bold'}));\n",
              "    li.append(span(\n",
              "        `(${file.type || 'n/a'}) - ${file.size} bytes, ` +\n",
              "        `last modified: ${\n",
              "            file.lastModifiedDate ? file.lastModifiedDate.toLocaleDateString() :\n",
              "                                    'n/a'} - `));\n",
              "    const percent = span('0% done');\n",
              "    li.appendChild(percent);\n",
              "\n",
              "    outputElement.appendChild(li);\n",
              "\n",
              "    const fileDataPromise = new Promise((resolve) => {\n",
              "      const reader = new FileReader();\n",
              "      reader.onload = (e) => {\n",
              "        resolve(e.target.result);\n",
              "      };\n",
              "      reader.readAsArrayBuffer(file);\n",
              "    });\n",
              "    // Wait for the data to be ready.\n",
              "    let fileData = yield {\n",
              "      promise: fileDataPromise,\n",
              "      response: {\n",
              "        action: 'continue',\n",
              "      }\n",
              "    };\n",
              "\n",
              "    // Use a chunked sending to avoid message size limits. See b/62115660.\n",
              "    let position = 0;\n",
              "    do {\n",
              "      const length = Math.min(fileData.byteLength - position, MAX_PAYLOAD_SIZE);\n",
              "      const chunk = new Uint8Array(fileData, position, length);\n",
              "      position += length;\n",
              "\n",
              "      const base64 = btoa(String.fromCharCode.apply(null, chunk));\n",
              "      yield {\n",
              "        response: {\n",
              "          action: 'append',\n",
              "          file: file.name,\n",
              "          data: base64,\n",
              "        },\n",
              "      };\n",
              "\n",
              "      let percentDone = fileData.byteLength === 0 ?\n",
              "          100 :\n",
              "          Math.round((position / fileData.byteLength) * 100);\n",
              "      percent.textContent = `${percentDone}% done`;\n",
              "\n",
              "    } while (position < fileData.byteLength);\n",
              "  }\n",
              "\n",
              "  // All done.\n",
              "  yield {\n",
              "    response: {\n",
              "      action: 'complete',\n",
              "    }\n",
              "  };\n",
              "}\n",
              "\n",
              "scope.google = scope.google || {};\n",
              "scope.google.colab = scope.google.colab || {};\n",
              "scope.google.colab._files = {\n",
              "  _uploadFiles,\n",
              "  _uploadFilesContinue,\n",
              "};\n",
              "})(self);\n",
              "</script> "
            ],
            "text/plain": [
              "<IPython.core.display.HTML object>"
            ]
          },
          "metadata": {},
          "output_type": "display_data"
        },
        {
          "name": "stdout",
          "output_type": "stream",
          "text": [
            "Saving kaggle.json to kaggle.json\n"
          ]
        },
        {
          "data": {
            "text/plain": [
              "{'kaggle.json': b'{\"username\":\"kimo26\",\"key\":\"12e86ee48ba133234a92099b7cc08db3\"}'}"
            ]
          },
          "execution_count": 2,
          "metadata": {},
          "output_type": "execute_result"
        }
      ],
      "source": [
        "# ONLY NEEDED FOR COLAB / SKIP FOR GCP & VERTEX AI\n",
        "from google.colab import files\n",
        "files.upload()"
      ]
    },
    {
      "cell_type": "code",
      "execution_count": null,
      "metadata": {
        "id": "PAd5AD0i6-KF"
      },
      "outputs": [],
      "source": [
        "!pip install -q kaggle #install Kaggle API client\n",
        "!mkdir ~/.kaggle #create kaggle directory\n",
        "!cp kaggle.json ~/.kaggle/kaggle.json #copy the kaggle.json file into directory\n",
        "!chmod 600 ~/.kaggle/kaggle.json #Change file permission"
      ]
    },
    {
      "cell_type": "markdown",
      "metadata": {
        "id": "aDbooXXs8mZy"
      },
      "source": [
        "# Downloading the Dataset\n",
        "\n",
        "We will be now downloading the tweets from kaggle to our notebook and unzip the folder."
      ]
    },
    {
      "cell_type": "code",
      "execution_count": null,
      "metadata": {
        "id": "BGej147m8jab",
        "colab": {
          "base_uri": "https://localhost:8080/"
        },
        "outputId": "fd9a592e-36c4-4ff4-a7d6-8b5aa1d17de4"
      },
      "outputs": [
        {
          "output_type": "stream",
          "name": "stdout",
          "text": [
            "Traceback (most recent call last):\n",
            "  File \"/usr/local/bin/kaggle\", line 5, in <module>\n",
            "    from kaggle.cli import main\n",
            "  File \"/usr/local/lib/python3.7/dist-packages/kaggle/__init__.py\", line 23, in <module>\n",
            "    api.authenticate()\n",
            "  File \"/usr/local/lib/python3.7/dist-packages/kaggle/api/kaggle_api_extended.py\", line 166, in authenticate\n",
            "    self.config_file, self.config_dir))\n",
            "OSError: Could not find kaggle.json. Make sure it's located in /root/.kaggle. Or use the environment method.\n"
          ]
        }
      ],
      "source": [
        "!kaggle datasets download -q rexhaif/emojifydata-en"
      ]
    },
    {
      "cell_type": "code",
      "execution_count": null,
      "metadata": {
        "id": "nR8Jn3k5D-5N",
        "colab": {
          "base_uri": "https://localhost:8080/"
        },
        "outputId": "19c11698-ac6c-444b-c864-878c3a8de76a"
      },
      "outputs": [
        {
          "output_type": "stream",
          "name": "stdout",
          "text": [
            "unzip:  cannot find or open emojifydata-en.zip, emojifydata-en.zip.zip or emojifydata-en.zip.ZIP.\n"
          ]
        }
      ],
      "source": [
        "!unzip -q emojifydata-en.zip"
      ]
    },
    {
      "cell_type": "markdown",
      "metadata": {
        "id": "G8_RDWihRrho"
      },
      "source": [
        "We will only be using dev.txt so we can delete all other txt files."
      ]
    },
    {
      "cell_type": "code",
      "execution_count": null,
      "metadata": {
        "id": "c_dgTOM2RqR1",
        "colab": {
          "base_uri": "https://localhost:8080/"
        },
        "outputId": "380a56f2-77be-4020-bf66-55eaa6b83b82"
      },
      "outputs": [
        {
          "output_type": "stream",
          "name": "stdout",
          "text": [
            "rm: cannot remove 'test.txt': No such file or directory\n",
            "rm: cannot remove 'train.txt': No such file or directory\n",
            "rm: cannot remove 'emojitweets-01-04-2018.txt': No such file or directory\n",
            "rm: cannot remove 'emojifydata-en.zip': No such file or directory\n"
          ]
        }
      ],
      "source": [
        "!rm -rf sample_data\n",
        "!rm test.txt\n",
        "!rm train.txt\n",
        "!rm emojitweets-01-04-2018.txt\n",
        "!rm emojifydata-en.zip"
      ]
    },
    {
      "cell_type": "markdown",
      "metadata": {
        "id": "Snn-33T9EM7N"
      },
      "source": [
        "#Raw text to Dataframe\n",
        "\n",
        "We will at this point extract the data froim the .txt file and put it into a pandas dataframe so that we can preprocess the data.\n",
        "\n",
        "We will first import all the libraries we will be using and read the text."
      ]
    },
    {
      "cell_type": "code",
      "execution_count": null,
      "metadata": {
        "id": "msUICXhbw9_j"
      },
      "outputs": [],
      "source": [
        "import pandas as pd\n",
        "import re\n",
        "import nltk \n",
        "from nltk.corpus import stopwords"
      ]
    },
    {
      "cell_type": "code",
      "execution_count": null,
      "metadata": {
        "id": "m0O1tpJWJqas"
      },
      "outputs": [],
      "source": [
        "with open('dev.txt') as f:\n",
        "  t = f.read()"
      ]
    },
    {
      "cell_type": "markdown",
      "metadata": {
        "id": "dl-u1nmjSy-p"
      },
      "source": [
        "## What does our data tell us?\n",
        "We know what the data approxiamtely looks like thanks its website on Kaggle. Every new tweet starts with Start tag and at the end there's STOP tag. Every word is seperated by \"0\\n\". Furthermore, we see that the emojis of the tweets are in CLDR Short Name format e.g a red heart is denoted as :red_heart:\n",
        "\n",
        "##Our Goal\n",
        "\n",
        "We want to create a dataframe which will have 2 columns. One denoting a tweet without its original emoji and the other one containing the corresponding emoji. So we must seperate all emojis from their corresponding tweets e.g. we want to start from \n",
        "\n",
        "> Congratulations Mo has been named the Players Player of the Year :clapping_hands:\n",
        "\n",
        "and end with \n",
        "\n",
        "\n",
        "\n",
        "> Congratulations Mo has been named the Players Player of the Year\n",
        "\n",
        "> :clapping_hands:\n",
        "\n",
        "##Step by Step\n",
        "\n"
      ]
    },
    {
      "cell_type": "markdown",
      "metadata": {
        "id": "uZFeGvKBSi9D"
      },
      "source": [
        "###1) Remove all unecessary tags"
      ]
    },
    {
      "cell_type": "code",
      "execution_count": null,
      "metadata": {
        "id": "cbx6bYckJudv"
      },
      "outputs": [],
      "source": [
        "t = t.replace('\\n','').replace('<STOP>','').replace('O','')#none of these tags give us any information about the tweet and must be cleaned up"
      ]
    },
    {
      "cell_type": "code",
      "execution_count": null,
      "metadata": {
        "id": "yPjcCWgLPS1m"
      },
      "outputs": [],
      "source": [
        "t = [i for i in t.split(' ') if i != '']#we remove all unecessary spaces\n",
        "t = ' '.join(t) #add back only the crucial ones"
      ]
    },
    {
      "cell_type": "markdown",
      "metadata": {
        "id": "cChs9SYYVwX8"
      },
      "source": [
        "###2) Seperate text into seperate tweets and place them into dataframe"
      ]
    },
    {
      "cell_type": "code",
      "execution_count": null,
      "metadata": {
        "id": "8UO16reOKCGI"
      },
      "outputs": [],
      "source": [
        "tweets = t.split('<START> ')[1:] #we know that all tweets start with the START tag"
      ]
    },
    {
      "cell_type": "code",
      "execution_count": null,
      "metadata": {
        "colab": {
          "base_uri": "https://localhost:8080/"
        },
        "id": "pqO6u9TAQQuJ",
        "outputId": "33c0f4f9-4451-4602-c6d6-94c04d34861e"
      },
      "outputs": [
        {
          "data": {
            "text/plain": [
              "['No object is so beautiful that under certain conditions it will not look ugly scar Wilde ↺ RT :red_heart:… ',\n",
              " 'Cant expect different results doing the same thingdoing stuff different from now on :person_shrugging:🏻 \\u200d :female_sign:️ ',\n",
              " '“ Lets go Marcus ” “ Shiiit where we goin Home ” Marcus Peters :face_with_tears_of_joy: ',\n",
              " 'Asahd really is a grown man in the body of a 1 year old :face_with_tears_of_joy: ',\n",
              " 'Yoongi Tweet Hello Im Min fell on Butt What the :face_with_tears_of_joy:Min ',\n",
              " 'we cannot afford İSJK :backhand_index_pointing_down:n AQ play havoc with our lives in Kashmir Yes these are the independent Kash … ',\n",
              " 'ranks 6th in January Idol Group Brand Reputation :party_popper:1Keep using 2Search GT 7 on Naver :backhand_index_pointing_down:htt … ',\n",
              " 'k people are really trying to kill themselves with this Tide Pod challenge Who tf and why tf :person_facepalming:🏽 \\u200d :female_sign:️ we had the Cinnamon Ch … ',\n",
              " 'Cant wait to meet my everything right after meeting my boyfriend :smiling_face_with_heart-eyes: ',\n",
              " 'Congratulations Mo has been named the Players Player of the Year :clapping_hands:htt … ']"
            ]
          },
          "execution_count": 38,
          "metadata": {},
          "output_type": "execute_result"
        }
      ],
      "source": [
        "tweets[:10]"
      ]
    },
    {
      "cell_type": "code",
      "execution_count": null,
      "metadata": {
        "colab": {
          "base_uri": "https://localhost:8080/",
          "height": 206
        },
        "id": "KtSj6cUzLoTF",
        "outputId": "e9862d2d-289f-4f0b-e904-9433faad62e5"
      },
      "outputs": [
        {
          "data": {
            "text/html": [
              "\n",
              "  <div id=\"df-38e42892-62a4-4f0e-b768-d908e88de26a\">\n",
              "    <div class=\"colab-df-container\">\n",
              "      <div>\n",
              "<style scoped>\n",
              "    .dataframe tbody tr th:only-of-type {\n",
              "        vertical-align: middle;\n",
              "    }\n",
              "\n",
              "    .dataframe tbody tr th {\n",
              "        vertical-align: top;\n",
              "    }\n",
              "\n",
              "    .dataframe thead th {\n",
              "        text-align: right;\n",
              "    }\n",
              "</style>\n",
              "<table border=\"1\" class=\"dataframe\">\n",
              "  <thead>\n",
              "    <tr style=\"text-align: right;\">\n",
              "      <th></th>\n",
              "      <th>tweets</th>\n",
              "    </tr>\n",
              "  </thead>\n",
              "  <tbody>\n",
              "    <tr>\n",
              "      <th>0</th>\n",
              "      <td>No object is so beautiful that under certain c...</td>\n",
              "    </tr>\n",
              "    <tr>\n",
              "      <th>1</th>\n",
              "      <td>Cant expect different results doing the same t...</td>\n",
              "    </tr>\n",
              "    <tr>\n",
              "      <th>2</th>\n",
              "      <td>“ Lets go Marcus ” “ Shiiit where we goin Home...</td>\n",
              "    </tr>\n",
              "    <tr>\n",
              "      <th>3</th>\n",
              "      <td>Asahd really is a grown man in the body of a 1...</td>\n",
              "    </tr>\n",
              "    <tr>\n",
              "      <th>4</th>\n",
              "      <td>Yoongi Tweet Hello Im Min fell on Butt What th...</td>\n",
              "    </tr>\n",
              "  </tbody>\n",
              "</table>\n",
              "</div>\n",
              "      <button class=\"colab-df-convert\" onclick=\"convertToInteractive('df-38e42892-62a4-4f0e-b768-d908e88de26a')\"\n",
              "              title=\"Convert this dataframe to an interactive table.\"\n",
              "              style=\"display:none;\">\n",
              "        \n",
              "  <svg xmlns=\"http://www.w3.org/2000/svg\" height=\"24px\"viewBox=\"0 0 24 24\"\n",
              "       width=\"24px\">\n",
              "    <path d=\"M0 0h24v24H0V0z\" fill=\"none\"/>\n",
              "    <path d=\"M18.56 5.44l.94 2.06.94-2.06 2.06-.94-2.06-.94-.94-2.06-.94 2.06-2.06.94zm-11 1L8.5 8.5l.94-2.06 2.06-.94-2.06-.94L8.5 2.5l-.94 2.06-2.06.94zm10 10l.94 2.06.94-2.06 2.06-.94-2.06-.94-.94-2.06-.94 2.06-2.06.94z\"/><path d=\"M17.41 7.96l-1.37-1.37c-.4-.4-.92-.59-1.43-.59-.52 0-1.04.2-1.43.59L10.3 9.45l-7.72 7.72c-.78.78-.78 2.05 0 2.83L4 21.41c.39.39.9.59 1.41.59.51 0 1.02-.2 1.41-.59l7.78-7.78 2.81-2.81c.8-.78.8-2.07 0-2.86zM5.41 20L4 18.59l7.72-7.72 1.47 1.35L5.41 20z\"/>\n",
              "  </svg>\n",
              "      </button>\n",
              "      \n",
              "  <style>\n",
              "    .colab-df-container {\n",
              "      display:flex;\n",
              "      flex-wrap:wrap;\n",
              "      gap: 12px;\n",
              "    }\n",
              "\n",
              "    .colab-df-convert {\n",
              "      background-color: #E8F0FE;\n",
              "      border: none;\n",
              "      border-radius: 50%;\n",
              "      cursor: pointer;\n",
              "      display: none;\n",
              "      fill: #1967D2;\n",
              "      height: 32px;\n",
              "      padding: 0 0 0 0;\n",
              "      width: 32px;\n",
              "    }\n",
              "\n",
              "    .colab-df-convert:hover {\n",
              "      background-color: #E2EBFA;\n",
              "      box-shadow: 0px 1px 2px rgba(60, 64, 67, 0.3), 0px 1px 3px 1px rgba(60, 64, 67, 0.15);\n",
              "      fill: #174EA6;\n",
              "    }\n",
              "\n",
              "    [theme=dark] .colab-df-convert {\n",
              "      background-color: #3B4455;\n",
              "      fill: #D2E3FC;\n",
              "    }\n",
              "\n",
              "    [theme=dark] .colab-df-convert:hover {\n",
              "      background-color: #434B5C;\n",
              "      box-shadow: 0px 1px 3px 1px rgba(0, 0, 0, 0.15);\n",
              "      filter: drop-shadow(0px 1px 2px rgba(0, 0, 0, 0.3));\n",
              "      fill: #FFFFFF;\n",
              "    }\n",
              "  </style>\n",
              "\n",
              "      <script>\n",
              "        const buttonEl =\n",
              "          document.querySelector('#df-38e42892-62a4-4f0e-b768-d908e88de26a button.colab-df-convert');\n",
              "        buttonEl.style.display =\n",
              "          google.colab.kernel.accessAllowed ? 'block' : 'none';\n",
              "\n",
              "        async function convertToInteractive(key) {\n",
              "          const element = document.querySelector('#df-38e42892-62a4-4f0e-b768-d908e88de26a');\n",
              "          const dataTable =\n",
              "            await google.colab.kernel.invokeFunction('convertToInteractive',\n",
              "                                                     [key], {});\n",
              "          if (!dataTable) return;\n",
              "\n",
              "          const docLinkHtml = 'Like what you see? Visit the ' +\n",
              "            '<a target=\"_blank\" href=https://colab.research.google.com/notebooks/data_table.ipynb>data table notebook</a>'\n",
              "            + ' to learn more about interactive tables.';\n",
              "          element.innerHTML = '';\n",
              "          dataTable['output_type'] = 'display_data';\n",
              "          await google.colab.output.renderOutput(dataTable, element);\n",
              "          const docLink = document.createElement('div');\n",
              "          docLink.innerHTML = docLinkHtml;\n",
              "          element.appendChild(docLink);\n",
              "        }\n",
              "      </script>\n",
              "    </div>\n",
              "  </div>\n",
              "  "
            ],
            "text/plain": [
              "                                              tweets\n",
              "0  No object is so beautiful that under certain c...\n",
              "1  Cant expect different results doing the same t...\n",
              "2  “ Lets go Marcus ” “ Shiiit where we goin Home...\n",
              "3  Asahd really is a grown man in the body of a 1...\n",
              "4  Yoongi Tweet Hello Im Min fell on Butt What th..."
            ]
          },
          "execution_count": 39,
          "metadata": {},
          "output_type": "execute_result"
        }
      ],
      "source": [
        "df = pd.DataFrame()\n",
        "df['tweets']=tweets\n",
        "df.head()"
      ]
    },
    {
      "cell_type": "markdown",
      "metadata": {
        "id": "XyIRGHo0WFM7"
      },
      "source": [
        "### 3) Seperate the emojis from the tweets"
      ]
    },
    {
      "cell_type": "code",
      "execution_count": null,
      "metadata": {
        "colab": {
          "base_uri": "https://localhost:8080/",
          "height": 206
        },
        "id": "ej0TrqGixAzp",
        "outputId": "625b259a-0122-48af-c65d-8f4f15f94df9"
      },
      "outputs": [
        {
          "data": {
            "text/html": [
              "\n",
              "  <div id=\"df-fe761064-da47-4de2-8fdd-511b1dcd5cd5\">\n",
              "    <div class=\"colab-df-container\">\n",
              "      <div>\n",
              "<style scoped>\n",
              "    .dataframe tbody tr th:only-of-type {\n",
              "        vertical-align: middle;\n",
              "    }\n",
              "\n",
              "    .dataframe tbody tr th {\n",
              "        vertical-align: top;\n",
              "    }\n",
              "\n",
              "    .dataframe thead th {\n",
              "        text-align: right;\n",
              "    }\n",
              "</style>\n",
              "<table border=\"1\" class=\"dataframe\">\n",
              "  <thead>\n",
              "    <tr style=\"text-align: right;\">\n",
              "      <th></th>\n",
              "      <th>text</th>\n",
              "      <th>emoji</th>\n",
              "    </tr>\n",
              "  </thead>\n",
              "  <tbody>\n",
              "    <tr>\n",
              "      <th>0</th>\n",
              "      <td>No object is so beautiful that under certain c...</td>\n",
              "      <td>red_heart</td>\n",
              "    </tr>\n",
              "    <tr>\n",
              "      <th>1</th>\n",
              "      <td>Cant expect different results doing the same t...</td>\n",
              "      <td>person_shrugging</td>\n",
              "    </tr>\n",
              "    <tr>\n",
              "      <th>2</th>\n",
              "      <td>“ Lets go Marcus ” “ Shiiit where we goin Home...</td>\n",
              "      <td>face_with_tears_of_joy</td>\n",
              "    </tr>\n",
              "    <tr>\n",
              "      <th>3</th>\n",
              "      <td>Asahd really is a grown man in the body of a 1...</td>\n",
              "      <td>face_with_tears_of_joy</td>\n",
              "    </tr>\n",
              "    <tr>\n",
              "      <th>4</th>\n",
              "      <td>Yoongi Tweet Hello Im Min fell on Butt What th...</td>\n",
              "      <td>face_with_tears_of_joy</td>\n",
              "    </tr>\n",
              "  </tbody>\n",
              "</table>\n",
              "</div>\n",
              "      <button class=\"colab-df-convert\" onclick=\"convertToInteractive('df-fe761064-da47-4de2-8fdd-511b1dcd5cd5')\"\n",
              "              title=\"Convert this dataframe to an interactive table.\"\n",
              "              style=\"display:none;\">\n",
              "        \n",
              "  <svg xmlns=\"http://www.w3.org/2000/svg\" height=\"24px\"viewBox=\"0 0 24 24\"\n",
              "       width=\"24px\">\n",
              "    <path d=\"M0 0h24v24H0V0z\" fill=\"none\"/>\n",
              "    <path d=\"M18.56 5.44l.94 2.06.94-2.06 2.06-.94-2.06-.94-.94-2.06-.94 2.06-2.06.94zm-11 1L8.5 8.5l.94-2.06 2.06-.94-2.06-.94L8.5 2.5l-.94 2.06-2.06.94zm10 10l.94 2.06.94-2.06 2.06-.94-2.06-.94-.94-2.06-.94 2.06-2.06.94z\"/><path d=\"M17.41 7.96l-1.37-1.37c-.4-.4-.92-.59-1.43-.59-.52 0-1.04.2-1.43.59L10.3 9.45l-7.72 7.72c-.78.78-.78 2.05 0 2.83L4 21.41c.39.39.9.59 1.41.59.51 0 1.02-.2 1.41-.59l7.78-7.78 2.81-2.81c.8-.78.8-2.07 0-2.86zM5.41 20L4 18.59l7.72-7.72 1.47 1.35L5.41 20z\"/>\n",
              "  </svg>\n",
              "      </button>\n",
              "      \n",
              "  <style>\n",
              "    .colab-df-container {\n",
              "      display:flex;\n",
              "      flex-wrap:wrap;\n",
              "      gap: 12px;\n",
              "    }\n",
              "\n",
              "    .colab-df-convert {\n",
              "      background-color: #E8F0FE;\n",
              "      border: none;\n",
              "      border-radius: 50%;\n",
              "      cursor: pointer;\n",
              "      display: none;\n",
              "      fill: #1967D2;\n",
              "      height: 32px;\n",
              "      padding: 0 0 0 0;\n",
              "      width: 32px;\n",
              "    }\n",
              "\n",
              "    .colab-df-convert:hover {\n",
              "      background-color: #E2EBFA;\n",
              "      box-shadow: 0px 1px 2px rgba(60, 64, 67, 0.3), 0px 1px 3px 1px rgba(60, 64, 67, 0.15);\n",
              "      fill: #174EA6;\n",
              "    }\n",
              "\n",
              "    [theme=dark] .colab-df-convert {\n",
              "      background-color: #3B4455;\n",
              "      fill: #D2E3FC;\n",
              "    }\n",
              "\n",
              "    [theme=dark] .colab-df-convert:hover {\n",
              "      background-color: #434B5C;\n",
              "      box-shadow: 0px 1px 3px 1px rgba(0, 0, 0, 0.15);\n",
              "      filter: drop-shadow(0px 1px 2px rgba(0, 0, 0, 0.3));\n",
              "      fill: #FFFFFF;\n",
              "    }\n",
              "  </style>\n",
              "\n",
              "      <script>\n",
              "        const buttonEl =\n",
              "          document.querySelector('#df-fe761064-da47-4de2-8fdd-511b1dcd5cd5 button.colab-df-convert');\n",
              "        buttonEl.style.display =\n",
              "          google.colab.kernel.accessAllowed ? 'block' : 'none';\n",
              "\n",
              "        async function convertToInteractive(key) {\n",
              "          const element = document.querySelector('#df-fe761064-da47-4de2-8fdd-511b1dcd5cd5');\n",
              "          const dataTable =\n",
              "            await google.colab.kernel.invokeFunction('convertToInteractive',\n",
              "                                                     [key], {});\n",
              "          if (!dataTable) return;\n",
              "\n",
              "          const docLinkHtml = 'Like what you see? Visit the ' +\n",
              "            '<a target=\"_blank\" href=https://colab.research.google.com/notebooks/data_table.ipynb>data table notebook</a>'\n",
              "            + ' to learn more about interactive tables.';\n",
              "          element.innerHTML = '';\n",
              "          dataTable['output_type'] = 'display_data';\n",
              "          await google.colab.output.renderOutput(dataTable, element);\n",
              "          const docLink = document.createElement('div');\n",
              "          docLink.innerHTML = docLinkHtml;\n",
              "          element.appendChild(docLink);\n",
              "        }\n",
              "      </script>\n",
              "    </div>\n",
              "  </div>\n",
              "  "
            ],
            "text/plain": [
              "                                                text                   emoji\n",
              "0  No object is so beautiful that under certain c...               red_heart\n",
              "1  Cant expect different results doing the same t...        person_shrugging\n",
              "2  “ Lets go Marcus ” “ Shiiit where we goin Home...  face_with_tears_of_joy\n",
              "3  Asahd really is a grown man in the body of a 1...  face_with_tears_of_joy\n",
              "4  Yoongi Tweet Hello Im Min fell on Butt What th...  face_with_tears_of_joy"
            ]
          },
          "execution_count": 40,
          "metadata": {},
          "output_type": "execute_result"
        }
      ],
      "source": [
        "df['text'] = df.tweets.apply(lambda x : re.sub(\":.*?:\",\"\",x))#we use the re library to remove all instances of CLDR Short Name emojis with \n",
        "df['emoji'] = df.tweets.apply(lambda x : re.findall(\":.*?:\",x)[0].replace(':',''))#we instead find all instances of CLDR Short Name emojis of the tweet and only keep one\n",
        "df = df.drop(columns=['tweets'])#we drop the tweets column since it takes space and is useless now\n",
        "df.head()"
      ]
    },
    {
      "cell_type": "markdown",
      "metadata": {
        "id": "tUexPfQ5Z1PE"
      },
      "source": [
        "### 4) Delete all unwanted Emojis from Dataframe"
      ]
    },
    {
      "cell_type": "code",
      "execution_count": null,
      "metadata": {
        "id": "vk-GXdvGZ_HH"
      },
      "outputs": [],
      "source": [
        "remove = ['heavy_check_mark','female_sign','male_sign','white_heavy_check_mark','right_arrow','double_exclamation_mark','yellow_heart','purple_heart','blue_heart','speaking_head','face_with_rolling_eyes',\n",
        "          'backhand_index_pointing_down','trophy']\n",
        "for i in remove:\n",
        "  df = df[df.emoji != i]"
      ]
    },
    {
      "cell_type": "markdown",
      "metadata": {
        "id": "rsvb7N5tX1xz"
      },
      "source": [
        "### 5) Balance and Shuffle the Data"
      ]
    },
    {
      "cell_type": "code",
      "execution_count": null,
      "metadata": {
        "colab": {
          "base_uri": "https://localhost:8080/",
          "height": 206
        },
        "id": "OHv3UPeCX7B2",
        "outputId": "708b3fb7-bbf9-4e8d-9bc9-e80b960534ad"
      },
      "outputs": [
        {
          "data": {
            "text/html": [
              "\n",
              "  <div id=\"df-5dcf8586-9677-44e8-a294-237e8913235c\">\n",
              "    <div class=\"colab-df-container\">\n",
              "      <div>\n",
              "<style scoped>\n",
              "    .dataframe tbody tr th:only-of-type {\n",
              "        vertical-align: middle;\n",
              "    }\n",
              "\n",
              "    .dataframe tbody tr th {\n",
              "        vertical-align: top;\n",
              "    }\n",
              "\n",
              "    .dataframe thead th {\n",
              "        text-align: right;\n",
              "    }\n",
              "</style>\n",
              "<table border=\"1\" class=\"dataframe\">\n",
              "  <thead>\n",
              "    <tr style=\"text-align: right;\">\n",
              "      <th></th>\n",
              "      <th>text</th>\n",
              "      <th>emoji</th>\n",
              "    </tr>\n",
              "  </thead>\n",
              "  <tbody>\n",
              "    <tr>\n",
              "      <th>0</th>\n",
              "      <td>i like this one Keep it up</td>\n",
              "      <td>clapping_hands</td>\n",
              "    </tr>\n",
              "    <tr>\n",
              "      <th>1</th>\n",
              "      <td>My Little Brother He Is nly 12 Years Doing Gra...</td>\n",
              "      <td>loudly_crying_face</td>\n",
              "    </tr>\n",
              "    <tr>\n",
              "      <th>2</th>\n",
              "      <td>You ready to drop out and start a skate shop i...</td>\n",
              "      <td>smiling_face_with_sunglasses</td>\n",
              "    </tr>\n",
              "    <tr>\n",
              "      <th>3</th>\n",
              "      <td>happy birthday my dude hope youve had a great ...</td>\n",
              "      <td>smiling_face_with_smiling_eyes</td>\n",
              "    </tr>\n",
              "    <tr>\n",
              "      <th>4</th>\n",
              "      <td>Lester Holt amp NBC BIG BB</td>\n",
              "      <td>flushed_face</td>\n",
              "    </tr>\n",
              "  </tbody>\n",
              "</table>\n",
              "</div>\n",
              "      <button class=\"colab-df-convert\" onclick=\"convertToInteractive('df-5dcf8586-9677-44e8-a294-237e8913235c')\"\n",
              "              title=\"Convert this dataframe to an interactive table.\"\n",
              "              style=\"display:none;\">\n",
              "        \n",
              "  <svg xmlns=\"http://www.w3.org/2000/svg\" height=\"24px\"viewBox=\"0 0 24 24\"\n",
              "       width=\"24px\">\n",
              "    <path d=\"M0 0h24v24H0V0z\" fill=\"none\"/>\n",
              "    <path d=\"M18.56 5.44l.94 2.06.94-2.06 2.06-.94-2.06-.94-.94-2.06-.94 2.06-2.06.94zm-11 1L8.5 8.5l.94-2.06 2.06-.94-2.06-.94L8.5 2.5l-.94 2.06-2.06.94zm10 10l.94 2.06.94-2.06 2.06-.94-2.06-.94-.94-2.06-.94 2.06-2.06.94z\"/><path d=\"M17.41 7.96l-1.37-1.37c-.4-.4-.92-.59-1.43-.59-.52 0-1.04.2-1.43.59L10.3 9.45l-7.72 7.72c-.78.78-.78 2.05 0 2.83L4 21.41c.39.39.9.59 1.41.59.51 0 1.02-.2 1.41-.59l7.78-7.78 2.81-2.81c.8-.78.8-2.07 0-2.86zM5.41 20L4 18.59l7.72-7.72 1.47 1.35L5.41 20z\"/>\n",
              "  </svg>\n",
              "      </button>\n",
              "      \n",
              "  <style>\n",
              "    .colab-df-container {\n",
              "      display:flex;\n",
              "      flex-wrap:wrap;\n",
              "      gap: 12px;\n",
              "    }\n",
              "\n",
              "    .colab-df-convert {\n",
              "      background-color: #E8F0FE;\n",
              "      border: none;\n",
              "      border-radius: 50%;\n",
              "      cursor: pointer;\n",
              "      display: none;\n",
              "      fill: #1967D2;\n",
              "      height: 32px;\n",
              "      padding: 0 0 0 0;\n",
              "      width: 32px;\n",
              "    }\n",
              "\n",
              "    .colab-df-convert:hover {\n",
              "      background-color: #E2EBFA;\n",
              "      box-shadow: 0px 1px 2px rgba(60, 64, 67, 0.3), 0px 1px 3px 1px rgba(60, 64, 67, 0.15);\n",
              "      fill: #174EA6;\n",
              "    }\n",
              "\n",
              "    [theme=dark] .colab-df-convert {\n",
              "      background-color: #3B4455;\n",
              "      fill: #D2E3FC;\n",
              "    }\n",
              "\n",
              "    [theme=dark] .colab-df-convert:hover {\n",
              "      background-color: #434B5C;\n",
              "      box-shadow: 0px 1px 3px 1px rgba(0, 0, 0, 0.15);\n",
              "      filter: drop-shadow(0px 1px 2px rgba(0, 0, 0, 0.3));\n",
              "      fill: #FFFFFF;\n",
              "    }\n",
              "  </style>\n",
              "\n",
              "      <script>\n",
              "        const buttonEl =\n",
              "          document.querySelector('#df-5dcf8586-9677-44e8-a294-237e8913235c button.colab-df-convert');\n",
              "        buttonEl.style.display =\n",
              "          google.colab.kernel.accessAllowed ? 'block' : 'none';\n",
              "\n",
              "        async function convertToInteractive(key) {\n",
              "          const element = document.querySelector('#df-5dcf8586-9677-44e8-a294-237e8913235c');\n",
              "          const dataTable =\n",
              "            await google.colab.kernel.invokeFunction('convertToInteractive',\n",
              "                                                     [key], {});\n",
              "          if (!dataTable) return;\n",
              "\n",
              "          const docLinkHtml = 'Like what you see? Visit the ' +\n",
              "            '<a target=\"_blank\" href=https://colab.research.google.com/notebooks/data_table.ipynb>data table notebook</a>'\n",
              "            + ' to learn more about interactive tables.';\n",
              "          element.innerHTML = '';\n",
              "          dataTable['output_type'] = 'display_data';\n",
              "          await google.colab.output.renderOutput(dataTable, element);\n",
              "          const docLink = document.createElement('div');\n",
              "          docLink.innerHTML = docLinkHtml;\n",
              "          element.appendChild(docLink);\n",
              "        }\n",
              "      </script>\n",
              "    </div>\n",
              "  </div>\n",
              "  "
            ],
            "text/plain": [
              "                                                text  \\\n",
              "0                       i like this one Keep it up     \n",
              "1  My Little Brother He Is nly 12 Years Doing Gra...   \n",
              "2  You ready to drop out and start a skate shop i...   \n",
              "3  happy birthday my dude hope youve had a great ...   \n",
              "4                       Lester Holt amp NBC BIG BB     \n",
              "\n",
              "                            emoji  \n",
              "0                  clapping_hands  \n",
              "1              loudly_crying_face  \n",
              "2    smiling_face_with_sunglasses  \n",
              "3  smiling_face_with_smiling_eyes  \n",
              "4                    flushed_face  "
            ]
          },
          "execution_count": 42,
          "metadata": {},
          "output_type": "execute_result"
        }
      ],
      "source": [
        "g = df.groupby('emoji')\n",
        "df = g.apply(lambda x: x.sample(g.size().min()).reset_index(drop=True))\n",
        "df = df.sample(frac=1).reset_index(drop=True)\n",
        "df.head()"
      ]
    },
    {
      "cell_type": "markdown",
      "metadata": {
        "id": "EkdnzKVDWqqJ"
      },
      "source": [
        "### 6) Clean the tweets homogenuously but don't change the semantics"
      ]
    },
    {
      "cell_type": "code",
      "execution_count": null,
      "metadata": {
        "id": "TeRsjZDfy3xF"
      },
      "outputs": [],
      "source": [
        "!pip install -U -q autocorrect"
      ]
    },
    {
      "cell_type": "code",
      "execution_count": null,
      "metadata": {
        "id": "CmIrrLNozMHZ"
      },
      "outputs": [],
      "source": [
        "from autocorrect import Speller"
      ]
    },
    {
      "cell_type": "code",
      "execution_count": null,
      "metadata": {
        "colab": {
          "base_uri": "https://localhost:8080/"
        },
        "id": "BXfjimkNOgkp",
        "outputId": "29e1d855-3f34-4b39-cdf1-681575ebba9b"
      },
      "outputs": [
        {
          "name": "stderr",
          "output_type": "stream",
          "text": [
            "[nltk_data] Downloading package stopwords to /root/nltk_data...\n",
            "[nltk_data]   Package stopwords is already up-to-date!\n"
          ]
        }
      ],
      "source": [
        "nltk.download('stopwords')\n",
        "stop_words = stopwords.words(\"english\")#words that you do not want to use to describe the topic of your content like: a, an, of, in, etc\n",
        "TEXT_CLEANING_RE = \"@\\S+|https?:\\S+|http?:\\S|[^A-Za-z0-9]+\"\n",
        "spell = Speller(fast=True)"
      ]
    },
    {
      "cell_type": "code",
      "execution_count": null,
      "metadata": {
        "id": "D1EjQTWMNOdr"
      },
      "outputs": [],
      "source": [
        "def preprocess(text):\n",
        "    text = str(text).lower()\n",
        "    text = text.replace('rt','')\n",
        "    text = re.sub(TEXT_CLEANING_RE, ' ', text).strip()#lower cases the tweet and removes all links, mentions, etc\n",
        "    tokens = []\n",
        "    for token in text.split():\n",
        "        if token not in stop_words:#removes stop words\n",
        "            tokens.append(token)\n",
        "    string = \" \".join(tokens)\n",
        "    string = spell(string)\n",
        "    return string"
      ]
    },
    {
      "cell_type": "code",
      "execution_count": null,
      "metadata": {
        "colab": {
          "base_uri": "https://localhost:8080/",
          "height": 206
        },
        "id": "4NeclO7fXi2O",
        "outputId": "b5cde45f-ea6c-48c2-a90a-8fb78e891ce5"
      },
      "outputs": [
        {
          "data": {
            "text/html": [
              "\n",
              "  <div id=\"df-0b8b9e5b-3137-4df2-921c-19f41716796d\">\n",
              "    <div class=\"colab-df-container\">\n",
              "      <div>\n",
              "<style scoped>\n",
              "    .dataframe tbody tr th:only-of-type {\n",
              "        vertical-align: middle;\n",
              "    }\n",
              "\n",
              "    .dataframe tbody tr th {\n",
              "        vertical-align: top;\n",
              "    }\n",
              "\n",
              "    .dataframe thead th {\n",
              "        text-align: right;\n",
              "    }\n",
              "</style>\n",
              "<table border=\"1\" class=\"dataframe\">\n",
              "  <thead>\n",
              "    <tr style=\"text-align: right;\">\n",
              "      <th></th>\n",
              "      <th>text</th>\n",
              "      <th>emoji</th>\n",
              "    </tr>\n",
              "  </thead>\n",
              "  <tbody>\n",
              "    <tr>\n",
              "      <th>0</th>\n",
              "      <td>like one keep</td>\n",
              "      <td>clapping_hands</td>\n",
              "    </tr>\n",
              "    <tr>\n",
              "      <th>1</th>\n",
              "      <td>little brother only 12 years grade 6 fighting ...</td>\n",
              "      <td>loudly_crying_face</td>\n",
              "    </tr>\n",
              "    <tr>\n",
              "      <th>2</th>\n",
              "      <td>ready drop sta skate shop queens</td>\n",
              "      <td>smiling_face_with_sunglasses</td>\n",
              "    </tr>\n",
              "    <tr>\n",
              "      <th>3</th>\n",
              "      <td>happy bihday dude hope youve great day today</td>\n",
              "      <td>smiling_face_with_smiling_eyes</td>\n",
              "    </tr>\n",
              "    <tr>\n",
              "      <th>4</th>\n",
              "      <td>letter holt amp nbc big bb</td>\n",
              "      <td>flushed_face</td>\n",
              "    </tr>\n",
              "  </tbody>\n",
              "</table>\n",
              "</div>\n",
              "      <button class=\"colab-df-convert\" onclick=\"convertToInteractive('df-0b8b9e5b-3137-4df2-921c-19f41716796d')\"\n",
              "              title=\"Convert this dataframe to an interactive table.\"\n",
              "              style=\"display:none;\">\n",
              "        \n",
              "  <svg xmlns=\"http://www.w3.org/2000/svg\" height=\"24px\"viewBox=\"0 0 24 24\"\n",
              "       width=\"24px\">\n",
              "    <path d=\"M0 0h24v24H0V0z\" fill=\"none\"/>\n",
              "    <path d=\"M18.56 5.44l.94 2.06.94-2.06 2.06-.94-2.06-.94-.94-2.06-.94 2.06-2.06.94zm-11 1L8.5 8.5l.94-2.06 2.06-.94-2.06-.94L8.5 2.5l-.94 2.06-2.06.94zm10 10l.94 2.06.94-2.06 2.06-.94-2.06-.94-.94-2.06-.94 2.06-2.06.94z\"/><path d=\"M17.41 7.96l-1.37-1.37c-.4-.4-.92-.59-1.43-.59-.52 0-1.04.2-1.43.59L10.3 9.45l-7.72 7.72c-.78.78-.78 2.05 0 2.83L4 21.41c.39.39.9.59 1.41.59.51 0 1.02-.2 1.41-.59l7.78-7.78 2.81-2.81c.8-.78.8-2.07 0-2.86zM5.41 20L4 18.59l7.72-7.72 1.47 1.35L5.41 20z\"/>\n",
              "  </svg>\n",
              "      </button>\n",
              "      \n",
              "  <style>\n",
              "    .colab-df-container {\n",
              "      display:flex;\n",
              "      flex-wrap:wrap;\n",
              "      gap: 12px;\n",
              "    }\n",
              "\n",
              "    .colab-df-convert {\n",
              "      background-color: #E8F0FE;\n",
              "      border: none;\n",
              "      border-radius: 50%;\n",
              "      cursor: pointer;\n",
              "      display: none;\n",
              "      fill: #1967D2;\n",
              "      height: 32px;\n",
              "      padding: 0 0 0 0;\n",
              "      width: 32px;\n",
              "    }\n",
              "\n",
              "    .colab-df-convert:hover {\n",
              "      background-color: #E2EBFA;\n",
              "      box-shadow: 0px 1px 2px rgba(60, 64, 67, 0.3), 0px 1px 3px 1px rgba(60, 64, 67, 0.15);\n",
              "      fill: #174EA6;\n",
              "    }\n",
              "\n",
              "    [theme=dark] .colab-df-convert {\n",
              "      background-color: #3B4455;\n",
              "      fill: #D2E3FC;\n",
              "    }\n",
              "\n",
              "    [theme=dark] .colab-df-convert:hover {\n",
              "      background-color: #434B5C;\n",
              "      box-shadow: 0px 1px 3px 1px rgba(0, 0, 0, 0.15);\n",
              "      filter: drop-shadow(0px 1px 2px rgba(0, 0, 0, 0.3));\n",
              "      fill: #FFFFFF;\n",
              "    }\n",
              "  </style>\n",
              "\n",
              "      <script>\n",
              "        const buttonEl =\n",
              "          document.querySelector('#df-0b8b9e5b-3137-4df2-921c-19f41716796d button.colab-df-convert');\n",
              "        buttonEl.style.display =\n",
              "          google.colab.kernel.accessAllowed ? 'block' : 'none';\n",
              "\n",
              "        async function convertToInteractive(key) {\n",
              "          const element = document.querySelector('#df-0b8b9e5b-3137-4df2-921c-19f41716796d');\n",
              "          const dataTable =\n",
              "            await google.colab.kernel.invokeFunction('convertToInteractive',\n",
              "                                                     [key], {});\n",
              "          if (!dataTable) return;\n",
              "\n",
              "          const docLinkHtml = 'Like what you see? Visit the ' +\n",
              "            '<a target=\"_blank\" href=https://colab.research.google.com/notebooks/data_table.ipynb>data table notebook</a>'\n",
              "            + ' to learn more about interactive tables.';\n",
              "          element.innerHTML = '';\n",
              "          dataTable['output_type'] = 'display_data';\n",
              "          await google.colab.output.renderOutput(dataTable, element);\n",
              "          const docLink = document.createElement('div');\n",
              "          docLink.innerHTML = docLinkHtml;\n",
              "          element.appendChild(docLink);\n",
              "        }\n",
              "      </script>\n",
              "    </div>\n",
              "  </div>\n",
              "  "
            ],
            "text/plain": [
              "                                                text  \\\n",
              "0                                      like one keep   \n",
              "1  little brother only 12 years grade 6 fighting ...   \n",
              "2                   ready drop sta skate shop queens   \n",
              "3       happy bihday dude hope youve great day today   \n",
              "4                         letter holt amp nbc big bb   \n",
              "\n",
              "                            emoji  \n",
              "0                  clapping_hands  \n",
              "1              loudly_crying_face  \n",
              "2    smiling_face_with_sunglasses  \n",
              "3  smiling_face_with_smiling_eyes  \n",
              "4                    flushed_face  "
            ]
          },
          "execution_count": 47,
          "metadata": {},
          "output_type": "execute_result"
        }
      ],
      "source": [
        "df.text = df.text.apply(lambda x : preprocess(x))\n",
        "df.head()"
      ]
    },
    {
      "cell_type": "markdown",
      "metadata": {
        "id": "G3Lp1tHaOrf1"
      },
      "source": [
        "# Dataframe to Neural Net Input\n",
        "\n",
        "At this point we've cleaned and organised our data. Now we have to transform our data such that our neural network will be able to use it to train. \n",
        "\n"
      ]
    },
    {
      "cell_type": "markdown",
      "metadata": {
        "id": "Tl1lgwimSry8"
      },
      "source": [
        "##Transforming Tweets\n",
        "Our first challenge is to transform the tweets into a readable form for our model. We will be using the keras text tokenizer which allows to vectorize a text corpus, by turning each text into a sequence of integers (each integer being the index of a token in a dictionary), we will then pad these sequences so that all our input data is uniform. Finally we will transform the emojis into one hot sequences."
      ]
    },
    {
      "cell_type": "code",
      "execution_count": null,
      "metadata": {
        "id": "-LJY0d8Jjx_H"
      },
      "outputs": [],
      "source": [
        "from tensorflow.keras.preprocessing.text import Tokenizer\n",
        "from sklearn.preprocessing import OneHotEncoder\n",
        "import numpy as np\n",
        "from tensorflow.keras.preprocessing.sequence import pad_sequences"
      ]
    },
    {
      "cell_type": "code",
      "execution_count": null,
      "metadata": {
        "id": "u4IC9Vnujpyd"
      },
      "outputs": [],
      "source": [
        "max_features = 2000\n",
        "max_length=100\n",
        "tokenizer = Tokenizer(num_words=max_features, split=' ')\n",
        "tokenizer.fit_on_texts(df['text'].values)\n",
        "x = tokenizer.texts_to_sequences(df['text'].values)\n",
        "x = pad_sequences(x,maxlen=max_length)"
      ]
    },
    {
      "cell_type": "code",
      "execution_count": null,
      "metadata": {
        "id": "L1s6Ud0QA7zN"
      },
      "outputs": [],
      "source": [
        "labels = df['emoji'].unique().tolist()\n",
        "encoder = OneHotEncoder(sparse=False)\n",
        "y = np.array(df['emoji'].tolist()).reshape(-1,1)\n",
        "encoder.fit(y)\n",
        "y = encoder.transform(y)"
      ]
    },
    {
      "cell_type": "code",
      "execution_count": null,
      "metadata": {
        "colab": {
          "base_uri": "https://localhost:8080/"
        },
        "id": "8brK-COpCnWJ",
        "outputId": "11f1c211-877c-48de-b79c-3be13c5efc92"
      },
      "outputs": [
        {
          "name": "stdout",
          "output_type": "stream",
          "text": [
            "x (375984, 100)\n",
            "y (375984, 36)\n"
          ]
        }
      ],
      "source": [
        "print('x',x.shape)\n",
        "print('y',y.shape)"
      ]
    },
    {
      "cell_type": "markdown",
      "metadata": {
        "id": "21L88s6_gLqd"
      },
      "source": [
        "You can save your encoder and tokenizer for future use of this model."
      ]
    },
    {
      "cell_type": "code",
      "execution_count": null,
      "metadata": {
        "id": "6G389pAbBZR5"
      },
      "outputs": [],
      "source": [
        "import pickle\n",
        "pickle.dump(tokenizer,open(\"tokenizer.pkl\",'wb'),protocol=0)\n",
        "pickle.dump(encoder,open('encoder.pkl','wb'),protocol = 0)"
      ]
    },
    {
      "cell_type": "markdown",
      "metadata": {
        "id": "2F07-fJbuOMK"
      },
      "source": [
        "# Model Architecture\n",
        "\n",
        "The first layer of our model will be an embedding one. An embedding layer enables us to convert each word into a fixed length vector of defined size. The resultant vector is a dense one having real values instead of just 0's and 1's. The fixed length of word vectors helps us to represent words in a better way along with reduced dimensions.\n",
        "An LSTM model generally works well for such a text classification problem. However, it takes forever to train. One way to speed up the training time is to improve the network adding “Convolutional” layer. Convolutional Neural Networks (CNN) come from image processing. They pass a “filter” over the data and calculate a higher-level representation. They have been shown to work surprisingly well for text, even though they have none of the sequence processing ability of LSTMs. Moreover, to increase the value of the data we're going to turn our LSTM layer to a bidirectional one. This is done so that a cell can be used to train two sides, instead of one side of the input sequence.This provides one more context to the word to fit in the right context from words coming after and before, resulting in faster and fully learning and solving a problem."
      ]
    },
    {
      "cell_type": "markdown",
      "metadata": {
        "id": "oKPQr0hHCVWy"
      },
      "source": [
        "## Building the Embedding Layer\n",
        "\n",
        "TensorFlow enables you to train word embeddings. However, this process not only requires a lot of data but can also be time and resource-intensive. To tackle these challenges you can use pre-trained word embeddings. Let's illustrate how to do this using GloVe (Global Vectors) word embeddings by Stanford.  These embeddings are obtained from representing words that are similar in the same vector space. This is to say that words that are negative would be clustered close to each other and so will positive ones. "
      ]
    },
    {
      "cell_type": "code",
      "execution_count": null,
      "metadata": {
        "colab": {
          "base_uri": "https://localhost:8080/"
        },
        "id": "DPPSRNU4Cf6A",
        "outputId": "6ac1401f-27ea-4d4c-9fe6-873aa5bf25a1"
      },
      "outputs": [
        {
          "name": "stdout",
          "output_type": "stream",
          "text": [
            "--2022-10-13 12:24:10--  http://nlp.stanford.edu/data/glove.6B.zip\n",
            "Resolving nlp.stanford.edu (nlp.stanford.edu)... 171.64.67.140\n",
            "Connecting to nlp.stanford.edu (nlp.stanford.edu)|171.64.67.140|:80... connected.\n",
            "HTTP request sent, awaiting response... 302 Found\n",
            "Location: https://nlp.stanford.edu/data/glove.6B.zip [following]\n",
            "--2022-10-13 12:24:11--  https://nlp.stanford.edu/data/glove.6B.zip\n",
            "Connecting to nlp.stanford.edu (nlp.stanford.edu)|171.64.67.140|:443... connected.\n",
            "HTTP request sent, awaiting response... 301 Moved Permanently\n",
            "Location: https://downloads.cs.stanford.edu/nlp/data/glove.6B.zip [following]\n",
            "--2022-10-13 12:24:11--  https://downloads.cs.stanford.edu/nlp/data/glove.6B.zip\n",
            "Resolving downloads.cs.stanford.edu (downloads.cs.stanford.edu)... 171.64.64.22\n",
            "Connecting to downloads.cs.stanford.edu (downloads.cs.stanford.edu)|171.64.64.22|:443... connected.\n",
            "HTTP request sent, awaiting response... 200 OK\n",
            "Length: 862182613 (822M) [application/zip]\n",
            "Saving to: ‘/tmp/glove.6B.zip’\n",
            "\n",
            "/tmp/glove.6B.zip   100%[===================>] 822.24M  5.01MB/s    in 2m 40s  \n",
            "\n",
            "2022-10-13 12:26:52 (5.12 MB/s) - ‘/tmp/glove.6B.zip’ saved [862182613/862182613]\n",
            "\n"
          ]
        }
      ],
      "source": [
        "!wget --no-check-certificate \\\n",
        "     http://nlp.stanford.edu/data/glove.6B.zip \\\n",
        "     -O /tmp/glove.6B.zip"
      ]
    },
    {
      "cell_type": "code",
      "execution_count": null,
      "metadata": {
        "id": "qoMmSgKoD6z4"
      },
      "outputs": [],
      "source": [
        "import os\n",
        "import zipfile\n",
        "with zipfile.ZipFile('/tmp/glove.6B.zip', 'r') as zip_ref:\n",
        "    zip_ref.extractall('/tmp/glove')"
      ]
    },
    {
      "cell_type": "markdown",
      "metadata": {
        "id": "a9A8q2L1Jsz6"
      },
      "source": [
        "The first step is to obtain the word embedding and append them to a dictionary. After that, you'll need to create an embedding matrix for each word in the training set. Let's start by downloading the GloVe word embeddings."
      ]
    },
    {
      "cell_type": "code",
      "execution_count": null,
      "metadata": {
        "colab": {
          "base_uri": "https://localhost:8080/"
        },
        "id": "ZBMwjO5lD_4R",
        "outputId": "16f39fb8-10c1-448a-baa0-fb633e22e5b4"
      },
      "outputs": [
        {
          "name": "stdout",
          "output_type": "stream",
          "text": [
            "Found 400000 word vectors.\n"
          ]
        }
      ],
      "source": [
        "embeddings_index = {}\n",
        "f = open('/tmp/glove/glove.6B.100d.txt')\n",
        "for line in f:\n",
        "    values = line.split()\n",
        "    word = values[0]\n",
        "    coefs = np.asarray(values[1:], dtype='float32')\n",
        "    embeddings_index[word] = coefs\n",
        "f.close()\n",
        "\n",
        "print('Found %s word vectors.' % len(embeddings_index))"
      ]
    },
    {
      "cell_type": "markdown",
      "metadata": {
        "id": "v0qc6RgfJYwx"
      },
      "source": [
        "The next step is to create a word embedding matrix for each word in the word index that you obtained earlier. If a word doesn't have an embedding in GloVe it will be presented with a zero matrix. "
      ]
    },
    {
      "cell_type": "code",
      "execution_count": null,
      "metadata": {
        "id": "SjQ97aQHEDLk"
      },
      "outputs": [],
      "source": [
        "word_index = tokenizer.word_index\n",
        "embedding_matrix = np.zeros((len(word_index) + 1, max_length))\n",
        "for word, i in word_index.items():\n",
        "    embedding_vector = embeddings_index.get(word)\n",
        "    if embedding_vector is not None:\n",
        "        # words not found in embedding index will be all-zeros.\n",
        "        embedding_matrix[i] = embedding_vector"
      ]
    },
    {
      "cell_type": "markdown",
      "metadata": {
        "id": "hJY0otueLSq5"
      },
      "source": [
        "The next step is to use the embedding you obtained above as the weights to a Keras embedding layer. You also have to set the trainable parameter of this layer to False so that is not trained. There are a couple of other things to note:\n",
        "\n",
        "\n",
        "\n",
        "*   The Embedding layer takes the first argument as the size of the vocabulary. 1 is added because 0 is usually reserved for padding\n",
        "*   The input_length is the length of the input sequences\n",
        "*   The output_dim is the dimension of the dense embedding"
      ]
    },
    {
      "cell_type": "code",
      "execution_count": null,
      "metadata": {
        "id": "cseDY7B1FcZQ"
      },
      "outputs": [],
      "source": [
        "from tensorflow.keras.layers import Embedding\n",
        "embedding_layer = Embedding(input_dim=len(word_index) + 1,\n",
        "                            output_dim=max_length,\n",
        "                            weights=[embedding_matrix],\n",
        "                            input_length=max_length,\n",
        "                            trainable=False)"
      ]
    },
    {
      "cell_type": "markdown",
      "metadata": {
        "id": "fUHaZj7sIB0-"
      },
      "source": [
        "## Building the Model"
      ]
    },
    {
      "cell_type": "code",
      "execution_count": null,
      "metadata": {
        "id": "fBZI6m5lClay"
      },
      "outputs": [],
      "source": [
        "from tensorflow.keras.layers import Dense, LSTM,GlobalAveragePooling1D, SpatialDropout1D,Conv1D,Bidirectional,Dropout\n",
        "from tensorflow.keras.models import Sequential"
      ]
    },
    {
      "cell_type": "code",
      "execution_count": null,
      "metadata": {
        "id": "_jBUZ8uvjz0I"
      },
      "outputs": [],
      "source": [
        "model = Sequential()\n",
        "model.add(embedding_layer)\n",
        "model.add(SpatialDropout1D(0.6))\n",
        "model.add(Conv1D(100,5,activation='relu'))\n",
        "model.add(Bidirectional(LSTM(100,dropout=0.6,recurrent_dropout=0.3)))\n",
        "model.add(Dropout(0.6))\n",
        "model.add(Dense(len(y[0]),activation='softmax'))"
      ]
    },
    {
      "cell_type": "code",
      "execution_count": null,
      "metadata": {
        "colab": {
          "base_uri": "https://localhost:8080/"
        },
        "id": "_fCSRDSYEm1c",
        "outputId": "d4bf950a-4e0f-429a-a0b5-c8d3dec512cb"
      },
      "outputs": [
        {
          "name": "stdout",
          "output_type": "stream",
          "text": [
            "Model: \"sequential_4\"\n",
            "_________________________________________________________________\n",
            " Layer (type)                Output Shape              Param #   \n",
            "=================================================================\n",
            " embedding (Embedding)       (None, 100, 100)          8532600   \n",
            "                                                                 \n",
            " spatial_dropout1d_4 (Spatia  (None, 100, 100)         0         \n",
            " lDropout1D)                                                     \n",
            "                                                                 \n",
            " conv1d_4 (Conv1D)           (None, 96, 100)           50100     \n",
            "                                                                 \n",
            " lstm_4 (LSTM)               (None, 100)               80400     \n",
            "                                                                 \n",
            " dropout_4 (Dropout)         (None, 100)               0         \n",
            "                                                                 \n",
            " dense_4 (Dense)             (None, 36)                3636      \n",
            "                                                                 \n",
            "=================================================================\n",
            "Total params: 8,666,736\n",
            "Trainable params: 134,136\n",
            "Non-trainable params: 8,532,600\n",
            "_________________________________________________________________\n"
          ]
        }
      ],
      "source": [
        "model.summary()"
      ]
    },
    {
      "cell_type": "code",
      "execution_count": null,
      "metadata": {
        "id": "Seqz9Vj3Euhc"
      },
      "outputs": [],
      "source": [
        "from tensorflow.keras.optimizers import Adam\n",
        "from tensorflow.keras.losses import CategoricalCrossentropy\n",
        "from tensorflow.keras.callbacks import TensorBoard"
      ]
    },
    {
      "cell_type": "code",
      "execution_count": null,
      "metadata": {
        "id": "3Bw7NjegVYM6"
      },
      "outputs": [],
      "source": [
        "#Watch our model train\n",
        "log_dir = \"logs/fit/\"\n",
        "call = TensorBoard(log_dir=log_dir,histogram_freq=1)"
      ]
    },
    {
      "cell_type": "code",
      "execution_count": null,
      "metadata": {
        "colab": {
          "base_uri": "https://localhost:8080/"
        },
        "id": "aeH-90rqFHTV",
        "outputId": "3fe5bc28-d102-4cda-b31e-d897f743ec50"
      },
      "outputs": [
        {
          "name": "stderr",
          "output_type": "stream",
          "text": [
            "/usr/local/lib/python3.7/dist-packages/keras/optimizers/optimizer_v2/adam.py:110: UserWarning: The `lr` argument is deprecated, use `learning_rate` instead.\n",
            "  super(Adam, self).__init__(name, **kwargs)\n"
          ]
        }
      ],
      "source": [
        "model.compile(optimizer=Adam(lr=1e-4),loss=CategoricalCrossentropy(),metrics=['accuracy'])"
      ]
    },
    {
      "cell_type": "code",
      "execution_count": null,
      "metadata": {
        "id": "rvhjA0pRFQJk"
      },
      "outputs": [],
      "source": [
        "hist = model.fit(x,y, batch_size = 64, epochs=10,callbacks=[call])"
      ]
    },
    {
      "cell_type": "code",
      "execution_count": null,
      "metadata": {
        "id": "HXGYVM4XWEE_"
      },
      "outputs": [],
      "source": [
        "%load_ext tensorboard"
      ]
    },
    {
      "cell_type": "code",
      "execution_count": null,
      "metadata": {
        "id": "V0iY0V-nWHlh"
      },
      "outputs": [],
      "source": [
        "%tensorboard — logdir /content/logs"
      ]
    },
    {
      "cell_type": "markdown",
      "metadata": {
        "id": "XE16VmcwuSC1"
      },
      "source": [
        "# Test Model"
      ]
    },
    {
      "cell_type": "markdown",
      "metadata": {
        "id": "uljExZGNMP1V"
      },
      "source": [
        "## Adding the Emoji to the string\n",
        "We have a trained model now. But to diversiy our outputs a bit more instead of selecting te emoji that our model assigned the greatest confidence, we will pick a random emoji from the weighted confidence output array. So now our final decision is not only determined by our model but there is also a certain element of chance that comes to it so for example the emoji with the second highest confidence is chosen. We will be using the emoji package which displays the emojis for us."
      ]
    },
    {
      "cell_type": "code",
      "execution_count": null,
      "metadata": {
        "colab": {
          "base_uri": "https://localhost:8080/"
        },
        "id": "J-v6Jp0wO33Z",
        "outputId": "902cf03b-a6ce-48a3-85ee-3b65fc2595f5"
      },
      "outputs": [
        {
          "name": "stdout",
          "output_type": "stream",
          "text": [
            "\u001b[?25l\r\u001b[K     |█▌                              | 10 kB 21.4 MB/s eta 0:00:01\r\u001b[K     |███                             | 20 kB 11.0 MB/s eta 0:00:01\r\u001b[K     |████▌                           | 30 kB 15.0 MB/s eta 0:00:01\r\u001b[K     |██████                          | 40 kB 6.3 MB/s eta 0:00:01\r\u001b[K     |███████▋                        | 51 kB 6.8 MB/s eta 0:00:01\r\u001b[K     |█████████                       | 61 kB 8.0 MB/s eta 0:00:01\r\u001b[K     |██████████▋                     | 71 kB 7.1 MB/s eta 0:00:01\r\u001b[K     |████████████                    | 81 kB 8.0 MB/s eta 0:00:01\r\u001b[K     |█████████████▋                  | 92 kB 7.0 MB/s eta 0:00:01\r\u001b[K     |███████████████▏                | 102 kB 7.4 MB/s eta 0:00:01\r\u001b[K     |████████████████▋               | 112 kB 7.4 MB/s eta 0:00:01\r\u001b[K     |██████████████████▏             | 122 kB 7.4 MB/s eta 0:00:01\r\u001b[K     |███████████████████▊            | 133 kB 7.4 MB/s eta 0:00:01\r\u001b[K     |█████████████████████▏          | 143 kB 7.4 MB/s eta 0:00:01\r\u001b[K     |██████████████████████▊         | 153 kB 7.4 MB/s eta 0:00:01\r\u001b[K     |████████████████████████▏       | 163 kB 7.4 MB/s eta 0:00:01\r\u001b[K     |█████████████████████████▊      | 174 kB 7.4 MB/s eta 0:00:01\r\u001b[K     |███████████████████████████▎    | 184 kB 7.4 MB/s eta 0:00:01\r\u001b[K     |████████████████████████████▊   | 194 kB 7.4 MB/s eta 0:00:01\r\u001b[K     |██████████████████████████████▎ | 204 kB 7.4 MB/s eta 0:00:01\r\u001b[K     |███████████████████████████████▊| 215 kB 7.4 MB/s eta 0:00:01\r\u001b[K     |████████████████████████████████| 216 kB 7.4 MB/s \n",
            "\u001b[?25h  Building wheel for emoji (setup.py) ... \u001b[?25l\u001b[?25hdone\n"
          ]
        }
      ],
      "source": [
        "!pip install -q emoji"
      ]
    },
    {
      "cell_type": "code",
      "execution_count": null,
      "metadata": {
        "id": "LK19eUSkFZAF"
      },
      "outputs": [],
      "source": [
        "import emoji"
      ]
    },
    {
      "cell_type": "code",
      "execution_count": null,
      "metadata": {
        "id": "ArEf0e9vOev6"
      },
      "outputs": [],
      "source": [
        "def addEmoji(text):\n",
        "        text = preprocess(text)\n",
        "        x = pad_sequences(tokenizer.texts_to_sequences([text]),maxlen=25)\n",
        "        y_hot = model.predict([x],verbose=0)[0]\n",
        "        w_sum = sum(y_hot)\n",
        "        sort = list(sorted(y_hot))\n",
        "        dummy = []\n",
        "        count = 0\n",
        "        \n",
        "\n",
        "        for i in sort:\n",
        "            count+=i\n",
        "            dummy.append(count)\n",
        "        sort = dummy\n",
        "        r = np.random.uniform(0,1)\n",
        "        y = np.argmax(y_hot)\n",
        "        for i,w in enumerate(sort[:-1]):\n",
        "            if r <= w:\n",
        "                y = i\n",
        "                break\n",
        "        y_in = np.zeros(36)\n",
        "        y_in[y]=1\n",
        "        y = encoder.inverse_transform([y_in])[0][0]\n",
        "\n",
        "      \n",
        "        text = emoji.emojize(f'{text} :{y}:')\n",
        "        return text"
      ]
    },
    {
      "cell_type": "code",
      "execution_count": null,
      "metadata": {
        "id": "b206lp_mE0ZX"
      },
      "outputs": [],
      "source": [
        "addEmoji(\"hey you\")"
      ]
    },
    {
      "cell_type": "markdown",
      "metadata": {
        "id": "E295I40PEdXn"
      },
      "source": [
        "### (Load your model)\n",
        "\n",
        "If you want to use your model in another context you can save and load your model just like this:"
      ]
    },
    {
      "cell_type": "code",
      "execution_count": null,
      "metadata": {
        "id": "gH_H2tqZEtyF"
      },
      "outputs": [],
      "source": [
        "from tensorflow.keras.models import load_model"
      ]
    },
    {
      "cell_type": "code",
      "execution_count": null,
      "metadata": {
        "id": "5UwH6ZEPEvOL"
      },
      "outputs": [],
      "source": [
        "model.save(\"model.h5\")"
      ]
    },
    {
      "cell_type": "code",
      "execution_count": null,
      "metadata": {
        "id": "Etgr3iS7E7wo"
      },
      "outputs": [],
      "source": [
        "model = load_model(\"model.h5\")"
      ]
    },
    {
      "cell_type": "markdown",
      "metadata": {
        "id": "5YryIagmD4V7"
      },
      "source": [
        "# Example Use with ACE Chatbot\n",
        "\n",
        "Here we will show you what our chatbot looks like with and without the cool added emojis!"
      ]
    },
    {
      "cell_type": "code",
      "execution_count": null,
      "metadata": {
        "colab": {
          "base_uri": "https://localhost:8080/"
        },
        "id": "Q89w1MikbRzj",
        "outputId": "d34ba8e5-9772-47ac-f5a7-4597a6e0a8b8"
      },
      "outputs": [
        {
          "name": "stdout",
          "output_type": "stream",
          "text": [
            "\u001b[K     |████████████████████████████████| 57.2 MB 1.3 MB/s \n",
            "\u001b[K     |████████████████████████████████| 216 kB 55.9 MB/s \n",
            "\u001b[K     |████████████████████████████████| 5.3 MB 61.9 MB/s \n",
            "\u001b[K     |████████████████████████████████| 148 kB 57.3 MB/s \n",
            "\u001b[K     |████████████████████████████████| 62.5 MB 9.1 kB/s \n",
            "\u001b[K     |████████████████████████████████| 7.6 MB 37.2 MB/s \n",
            "\u001b[K     |████████████████████████████████| 163 kB 48.6 MB/s \n",
            "\u001b[?25h  Building wheel for emoji (setup.py) ... \u001b[?25l\u001b[?25hdone\n",
            "  Building wheel for sklearn (setup.py) ... \u001b[?25l\u001b[?25hdone\n"
          ]
        }
      ],
      "source": [
        "!pip install -q ACETH"
      ]
    },
    {
      "cell_type": "code",
      "execution_count": null,
      "metadata": {
        "id": "GPPyoDBlbyIx"
      },
      "outputs": [],
      "source": [
        "from ACETH import chatbot as cb"
      ]
    },
    {
      "cell_type": "markdown",
      "metadata": {
        "id": "870tuOxZb2TO"
      },
      "source": [
        "## Boring Chatbot with no Emojis"
      ]
    },
    {
      "cell_type": "code",
      "execution_count": null,
      "metadata": {
        "id": "7W8x46Lsb5Bx"
      },
      "outputs": [],
      "source": [
        "curr = cb.chatbot(emoji=False)"
      ]
    },
    {
      "cell_type": "markdown",
      "metadata": {
        "id": "Y8aLG577b_KX"
      },
      "source": [
        "##Chatbot Everyone wants to talk to"
      ]
    },
    {
      "cell_type": "code",
      "execution_count": null,
      "metadata": {
        "colab": {
          "background_save": true
        },
        "id": "d6y14zXlcDTL"
      },
      "outputs": [],
      "source": [
        "cool = cb.chatbot()"
      ]
    }
  ],
  "metadata": {
    "colab": {
      "collapsed_sections": [
        "aDbooXXs8mZy",
        "Snn-33T9EM7N"
      ],
      "provenance": [],
      "include_colab_link": true
    },
    "kernelspec": {
      "display_name": "Python 3",
      "name": "python3"
    },
    "language_info": {
      "name": "python"
    }
  },
  "nbformat": 4,
  "nbformat_minor": 0
}